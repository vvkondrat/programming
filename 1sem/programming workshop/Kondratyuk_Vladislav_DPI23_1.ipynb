{
  "cells": [
    {
      "cell_type": "markdown",
      "metadata": {
        "id": "g8bX8LJqaTx5"
      },
      "source": [
        "# Практикум по программированию ДПИ23-1, ДПИ23-2, 1_сем\n",
        "---\n",
        "Семинарист: Денисенко Игорь Александрович\n",
        "[Телеграм](https://t.me/emptyn)\n",
        "\n",
        "---\n",
        "\n",
        "# Основная информация\n",
        "\n",
        "## 1) **Основные учебные ссылки:**\n",
        "\n",
        "- Форма сдачи СЕМИНАРОВ / КР [Клик](https://forms.gle/HsHAsCth6jXaXfcP6)\n",
        "- Ссылка на кампус [Клик](https://campus.fa.ru/course/view.php?id=29256)\n",
        "\n",
        "\n",
        "## 2) **Что делать на текущем семинаре (коротко):**\n",
        "  - решать задачи\n",
        "\n",
        "\n",
        "\n",
        "## 3) **Оценивание:**\n",
        "  - работа на семинарах - 1 семинар - 1 балл, всего 4\n",
        "  - 25 задач, каждая 1.2 балла, всего на 30 баллов (ставятся при условии защиты)\n",
        "  - 1 домашняя кр, всего 6 баллов (ставится при условии защиты)\n",
        "Всего в семестре: 50 ,fkkjd\n",
        "  защита задач и кр:\n",
        "  - из всех выбранных задач - выбираются несколько случайных задач, и вам необходимо их решить\n",
        "\n",
        "## 3.1) **Зачет**\n",
        "  - 35 баллов автомат\n",
        "\n",
        "  - 60 баллов - сам зачет (вопросы - см. кампус + пару задач)\n",
        "\n",
        "  Как получить: самостоятельно решить все указанные на кампусе задачи и прислать в форму - до дедлайна , написать мне в телегу, спросить - когда можно защитить, защить - полчить автомат.\n",
        "  \n",
        "\n",
        "\n",
        "\n",
        "## **4) Даты и Дедлайны**\n",
        "**- Семинары:**\n",
        "  - ДПИ23-1: 14.10.23 (с 10 до 13.20), 28.10.2023 (c 11:50 до 15.30)\n",
        "  - ДПИ23-2: 18.11.23 (c 14 до 17.10),  09.12.2023(с 10 до 13:20)\n",
        "\n",
        "**- Зачеты:**\n",
        "  - ДПИ23-1: 09.12.2023 (8:30)\n",
        "  - ДПИ23-2: 16.12.2023 (8:30)\n",
        "\n",
        "**- Дедлайны:**\n",
        "  - ДПИ23-1: 04.11.2023 23.59\n",
        "  - ДПИ23-2: 14.12.2023 23.59\n",
        "\n",
        "\n",
        "## **5) Полезные ссылки**\n",
        "\n",
        "1) [плейлист Фин Универ](https://www.youtube.com/watch?v=MEQfHdQQtk0&list=PL8s8jqZDz__AQu3czADirSzrycfslQetW&ab_channel=%D0%A1%D0%B5%D1%80%D0%B3%D0%B5%D0%B9%D0%92%D1%8F%D1%87%D0%B5%D1%81%D0%BB%D0%B0%D0%B2%D0%BE%D0%B2%D0%B8%D1%87%D0%9C%D0%B0%D0%BA%D1%80%D1%83%D1%88%D0%B8%D0%BD)\n",
        "\n",
        "\n",
        "\n"
      ]
    },
    {
      "cell_type": "markdown",
      "metadata": {
        "id": "UfdAaXt8D4mN"
      },
      "source": [
        "---"
      ]
    },
    {
      "cell_type": "code",
      "execution_count": null,
      "metadata": {
        "id": "rLhozwzn-oFq"
      },
      "outputs": [],
      "source": []
    },
    {
      "cell_type": "markdown",
      "metadata": {
        "id": "0iqpP3O4-oms"
      },
      "source": []
    },
    {
      "cell_type": "markdown",
      "metadata": {
        "id": "B3B-TRH8-orz"
      },
      "source": [
        "# Как решать задачи:\n",
        "\n",
        " - самостоятельно\n",
        " - не списывать (два одинаковых / похожих решения - минус баллы)\n",
        " - писать комментарии (поможет на защите вспомнить - что вы делали)\n",
        " - писать тесты"
      ]
    },
    {
      "cell_type": "markdown",
      "metadata": {
        "id": "0eYhm-zkD0Hc"
      },
      "source": [
        "# Как писать простые тесты"
      ]
    },
    {
      "cell_type": "markdown",
      "metadata": {
        "id": "L4oSXGN8J4GV"
      },
      "source": [
        "Для заданного четырехзначного числа выведите число, у которого цифры идут в обратном порядке, например, для числа 1234 ответ 4321.\n",
        "\n"
      ]
    },
    {
      "cell_type": "code",
      "execution_count": 16,
      "metadata": {
        "id": "qAI-a-swUBuN"
      },
      "outputs": [],
      "source": [
        "digit = 123"
      ]
    },
    {
      "cell_type": "code",
      "execution_count": 17,
      "metadata": {
        "colab": {
          "base_uri": "https://localhost:8080/"
        },
        "id": "ZPDXzf7p9Q3u",
        "outputId": "c66364b7-f0e9-4a85-d678-7c50cdc7cd51"
      },
      "outputs": [
        {
          "name": "stdout",
          "output_type": "stream",
          "text": [
            "4321\n"
          ]
        }
      ],
      "source": [
        "def reverse_digits(digit):\n",
        "  string_digit = str(digit)[::-1]\n",
        "  return int(string_digit)\n",
        "\n",
        "print(reverse_digits(1234))"
      ]
    },
    {
      "cell_type": "code",
      "execution_count": 18,
      "metadata": {
        "colab": {
          "base_uri": "https://localhost:8080/",
          "height": 356
        },
        "id": "0GESmK7oD3UY",
        "outputId": "67310739-82bc-4771-dfdb-bf584e48b0ce"
      },
      "outputs": [],
      "source": [
        "# простой тест\n",
        "def test_reverse_digits():\n",
        "    assert reverse_digits(1234) == 4321\n",
        "\n",
        "test_reverse_digits()\n"
      ]
    },
    {
      "cell_type": "code",
      "execution_count": null,
      "metadata": {
        "id": "44rmubGcJ8Dq"
      },
      "outputs": [],
      "source": []
    },
    {
      "cell_type": "markdown",
      "metadata": {
        "id": "IWKDh71faQ-U"
      },
      "source": [
        "### **ЗАДАЧИ**"
      ]
    },
    {
      "cell_type": "markdown",
      "metadata": {
        "id": "TVlAeGhyVx0K"
      },
      "source": [
        "Задача 1. Введите строку, состоящую из 2 цифр. Преобразуйте ее в целое и вещественное число. Выведите полученные 3 значения (строку, целое число, вещественное число) на экран в одной строке через запятую, затем пропустите строку и вновь выведите значения по одному на строке. Перед каждым значением выведите его тип.\n"
      ]
    },
    {
      "cell_type": "code",
      "execution_count": 19,
      "metadata": {
        "colab": {
          "base_uri": "https://localhost:8080/"
        },
        "id": "wkA_Q8EJW2Mu",
        "outputId": "81bdecb0-5b73-4521-954e-7a2d4f7e6544"
      },
      "outputs": [
        {
          "ename": "ValueError",
          "evalue": "invalid literal for int() with base 10: ''",
          "output_type": "error",
          "traceback": [
            "\u001b[1;31m---------------------------------------------------------------------------\u001b[0m",
            "\u001b[1;31mValueError\u001b[0m                                Traceback (most recent call last)",
            "\u001b[1;32md:\\finunivers\\programming\\1sem\\programming workshop\\Kondratyuk_Vladislav_DPI23_1.ipynb Cell 14\u001b[0m line \u001b[0;36m2\n\u001b[0;32m      <a href='vscode-notebook-cell:/d%3A/finunivers/programming/1sem/programming%20workshop/Kondratyuk_Vladislav_DPI23_1.ipynb#X16sZmlsZQ%3D%3D?line=0'>1</a>\u001b[0m string_input \u001b[39m=\u001b[39m \u001b[39minput\u001b[39m() \u001b[39m# ввод данных\u001b[39;00m\n\u001b[1;32m----> <a href='vscode-notebook-cell:/d%3A/finunivers/programming/1sem/programming%20workshop/Kondratyuk_Vladislav_DPI23_1.ipynb#X16sZmlsZQ%3D%3D?line=1'>2</a>\u001b[0m integer \u001b[39m=\u001b[39m \u001b[39mint\u001b[39;49m(string_input) \u001b[39m# преобразование строки в инт\u001b[39;00m\n\u001b[0;32m      <a href='vscode-notebook-cell:/d%3A/finunivers/programming/1sem/programming%20workshop/Kondratyuk_Vladislav_DPI23_1.ipynb#X16sZmlsZQ%3D%3D?line=2'>3</a>\u001b[0m float_number \u001b[39m=\u001b[39m \u001b[39mfloat\u001b[39m(string_input) \u001b[39m# преборазование строки в флоат\u001b[39;00m\n\u001b[0;32m      <a href='vscode-notebook-cell:/d%3A/finunivers/programming/1sem/programming%20workshop/Kondratyuk_Vladislav_DPI23_1.ipynb#X16sZmlsZQ%3D%3D?line=3'>4</a>\u001b[0m \u001b[39mprint\u001b[39m(string_input, integer, float_number, sep\u001b[39m=\u001b[39m\u001b[39m'\u001b[39m\u001b[39m, \u001b[39m\u001b[39m'\u001b[39m) \u001b[39m# вывод строки, инта, флоат в одну строку через запятую\u001b[39;00m\n",
            "\u001b[1;31mValueError\u001b[0m: invalid literal for int() with base 10: ''"
          ]
        }
      ],
      "source": [
        "string_input = input() # ввод данных\n",
        "integer = int(string_input) # преобразование строки в инт\n",
        "float_number = float(string_input) # преборазование строки в флоат\n",
        "print(string_input, integer, float_number, sep=', ') # вывод строки, инта, флоат в одну строку через запятую\n",
        "print('') # пустая строка\n",
        "print(type(string_input), string_input) # вывод типа строки и самой строки\n",
        "print(type(integer), integer) # вывод типа инта и сам инт\n",
        "print(type(float_number), float_number) # вывод типа флоат и сам флоат\n"
      ]
    },
    {
      "cell_type": "markdown",
      "metadata": {
        "id": "aia-qE0Bb851"
      },
      "source": [
        "Задача 2. Для заданного четырехзначного числа выведите число, у которого цифры идут в обратном порядке, например, для числа 1234 ответ 4321.\n"
      ]
    },
    {
      "cell_type": "code",
      "execution_count": null,
      "metadata": {
        "colab": {
          "base_uri": "https://localhost:8080/"
        },
        "id": "sqC_W_E2cJd7",
        "outputId": "abd0e465-f809-4a3e-9a55-83edf2399bd6"
      },
      "outputs": [
        {
          "name": "stdout",
          "output_type": "stream",
          "text": [
            "4321\n",
            "error: invalid input\n",
            "error: invalid input\n",
            "-321\n"
          ]
        }
      ],
      "source": [
        "# функция реверса интового числа с простыми проверками на ввод строки или флоат\n",
        "def reverse_digits(digit):\n",
        "  # если тип введенных данных не инт, выводим сообщение об ошибке, далее проверяем если инт меньше нуля, то\n",
        "  # с помощью среза достаем из строки число без минуса и отнимает от нуля и получаем реверсивное отрицательное число\n",
        "  # если введеное число больше нуля, просто преобразуем в строку и с помощью среза реверсиурем и обратно преобразуем в инт\n",
        "  result = 'error: invalid input' if type(digit) != int else 0 - int(str(digit)[:0:-1]) if int(digit) < 0 else int(str(digit)[::-1])\n",
        "\n",
        "  return result # вовзращаем результат\n",
        "\n",
        "print(reverse_digits(1234))\n",
        "print(reverse_digits('qwe'))\n",
        "print(reverse_digits(123.1))\n",
        "print(reverse_digits(-1234))"
      ]
    },
    {
      "cell_type": "code",
      "execution_count": null,
      "metadata": {
        "colab": {
          "base_uri": "https://localhost:8080/"
        },
        "id": "XG4Jp9eGcwpf",
        "outputId": "fa64d12b-65ec-4692-99d2-6fa15d73389a"
      },
      "outputs": [
        {
          "name": "stdout",
          "output_type": "stream",
          "text": [
            "true\n"
          ]
        }
      ],
      "source": [
        "def test_reverse_digits():\n",
        "    assert reverse_digits(1234) == 4321\n",
        "    assert reverse_digits(0000) == 0000\n",
        "    assert reverse_digits('qwe') == 'error: invalid input'\n",
        "    assert reverse_digits(123.2) == 'error: invalid input'\n",
        "    assert reverse_digits('qwe21354qEF WDSA F') == 'error: invalid input'\n",
        "    assert reverse_digits(-3456) == -6543\n",
        "    assert reverse_digits(-0000) == -0000 #????????????\n",
        "    print('true')\n",
        "\n",
        "test_reverse_digits()"
      ]
    },
    {
      "cell_type": "markdown",
      "metadata": {
        "id": "tL3dKmR2k1Fo"
      },
      "source": [
        "Задача 3. По номеру года определите, является ли данный год високосным. (год является високосным, если его номер кратен 4, но не кратен 100, а также если он кратен 400)."
      ]
    },
    {
      "cell_type": "code",
      "execution_count": null,
      "metadata": {
        "colab": {
          "base_uri": "https://localhost:8080/"
        },
        "id": "ITtiXe4hk8Ww",
        "outputId": "73229f1c-af87-40c5-d658-437aefc803d5"
      },
      "outputs": [
        {
          "name": "stdout",
          "output_type": "stream",
          "text": [
            "Введенный год не является високосным\n",
            "Введенный год является високосным\n",
            "error: invalid input\n"
          ]
        }
      ],
      "source": [
        "# функция проверяет является ли введеный год високосным и проверяет правильность ввода\n",
        "def leap_year(input):\n",
        "  # если ввод не инт или меньше 0, сохраняем информацию об ошибке\n",
        "  if type(input) != int: result = 'error: invalid input'\n",
        "  elif input < 0: result = 'error: invalid input'\n",
        "  # введеный год проходит проверку на високосный год, сохраняем в переменную резалт инфомрацию о том что он високосный\n",
        "  elif input % 4 == 0 and input % 100 != 0 or input % 400 == 0: result = 'Введенный год является високосным'\n",
        "  # в ином случае сохраняем информацию о том, что он не является високосным\n",
        "  else: result = 'Введенный год не является високосным'\n",
        "  # выводим результат в зависимости от правильности ввода и условий\n",
        "  return result\n",
        "\n",
        "print(leap_year(1234))\n",
        "print(leap_year(2024))\n",
        "print(leap_year(-123))"
      ]
    },
    {
      "cell_type": "code",
      "execution_count": null,
      "metadata": {
        "colab": {
          "base_uri": "https://localhost:8080/"
        },
        "id": "1XRbA5jyn2af",
        "outputId": "59af2f26-9fbc-44ad-c687-cac02189864b"
      },
      "outputs": [
        {
          "name": "stdout",
          "output_type": "stream",
          "text": [
            "true\n"
          ]
        }
      ],
      "source": [
        "def test_leap_year():\n",
        "  assert leap_year(123) == 'Введенный год не является високосным'\n",
        "  assert leap_year(2004) == 'Введенный год является високосным'\n",
        "  assert leap_year('1232354') == 'error: invalid input'\n",
        "  assert leap_year(123.12) == 'error: invalid input'\n",
        "  assert leap_year(-2004) == 'error: invalid input'\n",
        "\n",
        "  print('true')\n",
        "\n",
        "test_leap_year()"
      ]
    },
    {
      "cell_type": "markdown",
      "metadata": {
        "id": "hYlVv-nNpoJ0"
      },
      "source": [
        "Задача 4. Строка содержит фамилию, имя и отчество, записанные через пробелы. Например « Иванов Иван Иванович». Для этой строки получите строки вида «Иванов И.И.» и «И.И. Иванов»\n"
      ]
    },
    {
      "cell_type": "code",
      "execution_count": null,
      "metadata": {
        "colab": {
          "base_uri": "https://localhost:8080/"
        },
        "id": "UV7nz9S7qPQ4",
        "outputId": "1bb834d6-401f-4eb6-c26a-28165a929c8d"
      },
      "outputs": [
        {
          "name": "stdout",
          "output_type": "stream",
          "text": [
            "Иванов И.И.\n",
            "Кондратюк В.В.\n",
            "error: invalid input\n",
            "error: введите ФИО\n"
          ]
        }
      ],
      "source": [
        "# функция формата ввода ФИО\n",
        "def new_format(input):\n",
        "  # тест на валидность ввода\n",
        "  if type(input) != str: return 'error: invalid input'\n",
        "  # проверяем введено ли ФИО или только фамилия и имя и т.д.\n",
        "  if len(input.split()) != 3: return 'error: введите ФИО'\n",
        "  # разбиваем строку на фамилию, имя, отчество по отдельности в массив\n",
        "  arr = list(input.split())\n",
        "  # возвращаем отформатированный ввод\n",
        "  return arr[0] + ' ' + arr[1][:1] + '.' + arr[2][:1] + '.'\n",
        "\n",
        "print(new_format('Иванов Иван Иванович'))\n",
        "print(new_format('Кондратюк Владислав Викторович'))\n",
        "print(new_format(000))\n",
        "print(new_format('Кондратюк Владислав'))"
      ]
    },
    {
      "cell_type": "code",
      "execution_count": null,
      "metadata": {
        "colab": {
          "base_uri": "https://localhost:8080/"
        },
        "id": "1uC8REWwpqB_",
        "outputId": "e0285bb1-2372-4308-8eec-db70647cb9b4"
      },
      "outputs": [
        {
          "name": "stdout",
          "output_type": "stream",
          "text": [
            "true\n"
          ]
        }
      ],
      "source": [
        "def test_new_format():\n",
        "  assert new_format(123) == 'error: invalid input'\n",
        "  assert new_format('Кондратюк Владислав Викторович') == 'Кондратюк В.В.'\n",
        "  assert new_format('qwe') == 'error: введите ФИО'\n",
        "  print('true')\n",
        "\n",
        "test_new_format()"
      ]
    },
    {
      "cell_type": "markdown",
      "metadata": {
        "id": "e3R4dq9iS8FA"
      },
      "source": [
        "Задача 5. Вычислите значение выражения, которое состоит из целых чисел и знаков «+» и «-». Выражение вводится как символьная строка."
      ]
    },
    {
      "cell_type": "code",
      "execution_count": null,
      "metadata": {
        "colab": {
          "base_uri": "https://localhost:8080/"
        },
        "id": "lC-C_pvFS-NS",
        "outputId": "6dbd880f-fc87-41b7-c175-65baa359c3ca"
      },
      "outputs": [
        {
          "name": "stdout",
          "output_type": "stream",
          "text": [
            "25\n",
            "-3\n",
            "1\n",
            "error: invalid input\n",
            "14\n",
            "error: invalid input\n",
            "error: invalid input\n",
            "error: invalid input\n"
          ]
        }
      ],
      "source": [
        "# импорт пакет с регулярными выражениями\n",
        "import re\n",
        "# фукнция, которая вычисляет значение выражения введеной строки, которая состоит из целых чисел и знаков + и -\n",
        "def custom_expression(input):\n",
        "  # создаем лист по шаблону регулярного выражения, которое соответствует последовательным цифрам или последовательным не-цифрам\n",
        "  # в данном случае нам просто необходимо разделить последоватильности чисел, между которыми знак + или -\n",
        "  my_list = re.findall(r'[0-9\\.]+|[^0-9\\.]+', input)\n",
        "  # проверяем случай, если введенная строка состоит из чисел, но первое число - отрицательное\n",
        "  if my_list[0] == '-':\n",
        "    del my_list[0]\n",
        "    result = 0 - int(my_list[0])\n",
        "  else:\n",
        "    # проверяем, является ли 1 элемент в новом списке числом или другим типом данным\n",
        "    # если число - присваиваем значение в переменную для дальнейшего вычисления\n",
        "    # если не число - выдаем ошибку\n",
        "    if my_list[0].isdigit() == False: return 'error: invalid input'\n",
        "    result = int(my_list[0])\n",
        "  for i in range(len(my_list)):\n",
        "    # проверка всех последующих элементов в новом списке на тип данных\n",
        "    if my_list[i].isdigit() == True or my_list[i].strip() == '-' or my_list[i].strip() == '+':\n",
        "      # в зависимости от какой операнд находится на нечетном индексе в списке\n",
        "      # мы либо прибавляем следующий элемент, либо отнимаем\n",
        "      if i % 2 == 1:\n",
        "        if my_list[i].strip() == '+': result += int(my_list[i + 1])\n",
        "        else: result -= int(my_list[i + 1])\n",
        "    else: return 'error: invalid input'\n",
        "  return result\n",
        "\n",
        "print(custom_expression('123+2-100'))\n",
        "print(custom_expression('0 - 1 - 2 + 0'))\n",
        "print(custom_expression('1'))\n",
        "print(custom_expression(' qwd qwd qwdw'))\n",
        "print(custom_expression('-1 + 12 + 3'))\n",
        "print(custom_expression('12.1 + 123.11'))\n",
        "print(custom_expression('123 + qweqw '))\n",
        "print(custom_expression('123 + asd + asd - asd'))\n",
        "\n"
      ]
    },
    {
      "cell_type": "code",
      "execution_count": null,
      "metadata": {
        "colab": {
          "base_uri": "https://localhost:8080/"
        },
        "id": "8ZSlZuygp3nl",
        "outputId": "5628c0b7-b331-4dc9-ed9c-40caabf0eaf6"
      },
      "outputs": [
        {
          "name": "stdout",
          "output_type": "stream",
          "text": [
            "true\n"
          ]
        }
      ],
      "source": [
        "def test_custom_expression():\n",
        "  assert custom_expression('10 + 1') == 11\n",
        "  assert custom_expression('11+1') == 12\n",
        "  assert custom_expression('qwe') == 'error: invalid input'\n",
        "  assert custom_expression('qwe + q' ) == 'error: invalid input'\n",
        "  assert custom_expression('1') == 1\n",
        "  assert custom_expression('-1 + 2') == 1\n",
        "  assert custom_expression('123 + qwsed') == 'error: invalid input'\n",
        "  assert custom_expression('123.1 + 11.1') == 'error: invalid input'\n",
        "\n",
        "  print('true')\n",
        "\n",
        "test_custom_expression()"
      ]
    },
    {
      "cell_type": "markdown",
      "metadata": {
        "id": "ygjCZ0aGDOyu"
      },
      "source": [
        "Задача 6. Дана строка, состоящая из слов, разделенных пробелами. В этой строке:\n",
        "\n",
        "Удалите все лишние пробелы (Удалите в начале и в конце. Между словами  надо оставить ровно один пробел);\n",
        "В первых двух словах поменяйте регистр символов (строчные сделать прописными, прописные – строчными);\n",
        "Определите, сколько в строке слов."
      ]
    },
    {
      "cell_type": "code",
      "execution_count": null,
      "metadata": {
        "colab": {
          "base_uri": "https://localhost:8080/"
        },
        "id": "-LGwcU61Dzgq",
        "outputId": "c0c369ed-bdc1-4fb5-a014-0793b36f7e34"
      },
      "outputs": [
        {
          "name": "stdout",
          "output_type": "stream",
          "text": [
            "[3, 'sUN MooN rain']\n",
            "[1, 'heLLO']\n",
            "error: invalid input\n",
            "[0, '']\n"
          ]
        }
      ],
      "source": [
        "# функция получает строку и форматирует по заданию\n",
        "def func(input):\n",
        "  # проверка на валидность введеных данных\n",
        "  if type(input) != str: return 'error: invalid input'\n",
        "  # удаляем пробелы в начале и конце и добавляем слова из строки в список\n",
        "  arr = input.split()\n",
        "  # считает и запоминает количество строк\n",
        "  count = len(arr)\n",
        "\n",
        "  result_string = ''\n",
        "  # для первых двух слов меняем регистры букв и доабвляем в финальную строку\n",
        "  for item in arr[:2]:\n",
        "    result_string += item.swapcase() + ' '\n",
        "  # остальные слова просто добавляем в финальную строку с добавлением пробелов\n",
        "  for item in arr[2:]:\n",
        "    result_string += item + ' '\n",
        "  # возвращаем списком количество слов в строке и отформатированную по заданию строку\n",
        "  return [count, result_string.strip()]\n",
        "\n",
        "print(func('  Sun mOOn  rain '))\n",
        "print(func('  HEllo '))\n",
        "print(func(123))\n",
        "print(func(' '))"
      ]
    },
    {
      "cell_type": "code",
      "execution_count": null,
      "metadata": {
        "colab": {
          "base_uri": "https://localhost:8080/"
        },
        "id": "zaCDPuuDDR7a",
        "outputId": "82e700f2-788a-4a7e-e111-63acae01afdb"
      },
      "outputs": [
        {
          "name": "stdout",
          "output_type": "stream",
          "text": [
            "true\n"
          ]
        }
      ],
      "source": [
        "def test_func():\n",
        "  assert func('  Sun mOOn  rain ') == [3, 'sUN MooN rain']\n",
        "  assert func(' Sun MooN ') == [2, 'sUN mOOn']\n",
        "  assert func('  HEllo ') == [1, 'heLLO']\n",
        "  assert func(123) == 'error: invalid input'\n",
        "  assert func('') == [0, '']\n",
        "\n",
        "  print('true')\n",
        "\n",
        "test_func()"
      ]
    },
    {
      "cell_type": "markdown",
      "metadata": {
        "id": "KeUYol_mMGYw"
      },
      "source": [
        "Задача 7. Имеются 2 списка целых чисел, упорядоченные по возрастанию. Получите новый список, содержащий все элементы исходных списков, в котором элементы также упорядочены в порядке возрастания, не используя сортировку."
      ]
    },
    {
      "cell_type": "code",
      "execution_count": null,
      "metadata": {
        "colab": {
          "base_uri": "https://localhost:8080/"
        },
        "id": "bmlqJFvbMGI5",
        "outputId": "a3909856-de80-4984-b610-a259e20e12ab"
      },
      "outputs": [
        {
          "name": "stdout",
          "output_type": "stream",
          "text": [
            "[1, 2, 3, 4, 5, 6]\n",
            "[0, 1, 2, 3, 4]\n",
            "[-3, -2, -1, 0, 1, 2, 3]\n",
            "[0, 0, 0, 1, 1, 1]\n",
            "[0.3, 0.54, 1.1, 1.2]\n"
          ]
        }
      ],
      "source": [
        "# функция слияние двух отсортированных списков числами\n",
        "def union_digits(first_list, second_list):\n",
        "  i, j = 0, 0\n",
        "  new_list = []\n",
        "  # работаем в цикле, пока счечтики смещения по спискам не дойдут до конца\n",
        "  while i < len(first_list) and j < len(second_list):\n",
        "    # если элемент из первого списка меньше, значит добавляем его в новый список и\n",
        "    # увеличиваем индекс элемента для дальншейней проверки\n",
        "    if first_list[i] < second_list[j]:\n",
        "      new_list.append(first_list[i])\n",
        "      i += 1\n",
        "    # если элемент из второго списка меньше или равен элементу из первого списка,\n",
        "    # значит добавляем его в новый список и увеличиваем индекс элемента второго списка\n",
        "    # для дальнешего сравнения\n",
        "    else:\n",
        "      new_list.append(second_list[j])\n",
        "      j += 1\n",
        "    # возвращаем новый список и остаток первого или второго списка, т.к. они отсортированны\n",
        "    # и списки не всегда могут быть одиноковой длины\n",
        "  return new_list + first_list[i:] + second_list[j:]\n",
        "\n",
        "print(union_digits([1, 3, 5], [2, 4, 6]))\n"
      ]
    },
    {
      "cell_type": "code",
      "execution_count": null,
      "metadata": {
        "colab": {
          "base_uri": "https://localhost:8080/"
        },
        "id": "3O84elU3O4rN",
        "outputId": "c34a6870-4b42-421a-c030-4a8f5cf60291"
      },
      "outputs": [
        {
          "name": "stdout",
          "output_type": "stream",
          "text": [
            "true\n"
          ]
        }
      ],
      "source": [
        "def test_union_digits():\n",
        "  assert union_digits([1, 3, 5], [2, 4, 6]) == [1, 2, 3, 4, 5, 6]\n",
        "  assert union_digits([0], [1, 2, 3, 4]) == [0, 1, 2, 3, 4]\n",
        "  assert union_digits([-3, -2, -1, 1, 2, 3], [0]) == [-3, -2, -1, 0, 1, 2, 3]\n",
        "  assert union_digits([0, 0, 0], [1, 1, 1]) == [0, 0, 0, 1, 1, 1]\n",
        "  assert union_digits([1.1, 1.2], [0.3, 0.54]) == [0.3, 0.54, 1.1, 1.2]\n",
        "\n",
        "  print('true')\n",
        "\n",
        "test_union_digits()"
      ]
    },
    {
      "cell_type": "markdown",
      "metadata": {
        "id": "R8qQkFA89zVL"
      },
      "source": [
        "Задача 8. Пользователь вводит произвольную строку в виде нескольких слов. Надо составить список, в котором слова находятся в лексикографическом порядке по возрастанию. Затем надо составить\n",
        "строку, в которой все слова списка, сформированного ранее, перечисляются через пробел.\n",
        "Словом в строке надо считать подстроку, ограниченную пробелами или началом и концом строки."
      ]
    },
    {
      "cell_type": "code",
      "execution_count": null,
      "metadata": {
        "colab": {
          "base_uri": "https://localhost:8080/"
        },
        "id": "ovI2bkEL90u9",
        "outputId": "7ccb92db-faf8-4e56-9616-bd1663ef48be"
      },
      "outputs": [
        {
          "name": "stdout",
          "output_type": "stream",
          "text": [
            "qwe\n",
            "ASD asd asd sdf sdfg\n",
            "a b c d e\n",
            "101 12 127 9 9122\n"
          ]
        }
      ],
      "source": [
        "# функция однострочник сначала преобразует ввод в список с помощью сплита по пробелам\n",
        "# затем к пустой строке с помощью джоин добавляем каждый элемент списка, проходя по нему\n",
        "# с помощью цикла фор, и возвращаем эту строку, добавив в конце метод стрип для удаления\n",
        "# лишнего пробела в конце\n",
        "def func(input):\n",
        "  return ''.join([item + ' ' for item in sorted(list(input.split()))]).strip()\n",
        "\n",
        "print(func('qwe'))\n",
        "print(func('sdfg sdf ASD asd asd'))\n",
        "print(func('e d c b a'))\n",
        "print(func(' 9  101 9122 127 12'))"
      ]
    },
    {
      "cell_type": "code",
      "execution_count": null,
      "metadata": {
        "colab": {
          "base_uri": "https://localhost:8080/"
        },
        "id": "fpqBA4HZCn-3",
        "outputId": "0bb3324c-0ecf-4834-d254-41c0043c18ae"
      },
      "outputs": [
        {
          "name": "stdout",
          "output_type": "stream",
          "text": [
            "true\n"
          ]
        }
      ],
      "source": [
        "def test_func():\n",
        "  assert func('e d c b a') == 'a b c d e'\n",
        "  assert func('sdfg sdf ASD asd asd') == 'ASD asd asd sdf sdfg'\n",
        "\n",
        "  print('true')\n",
        "\n",
        "test_func()"
      ]
    },
    {
      "cell_type": "markdown",
      "metadata": {
        "id": "wnW0qYNbrfLE"
      },
      "source": [
        "Задача 9. Реализуйте умножение двух матриц, записанных как список списков (без использования специализированных библиотек). При этом надо проверить, что размерности матриц таковы, что их можно умножать. Если не, то надо вывести сообщение об ошибке."
      ]
    },
    {
      "cell_type": "code",
      "execution_count": null,
      "metadata": {
        "colab": {
          "base_uri": "https://localhost:8080/"
        },
        "id": "WXgbtax3rgPk",
        "outputId": "945debb2-a1a7-4628-9bda-1da361b40634"
      },
      "outputs": [
        {
          "name": "stdout",
          "output_type": "stream",
          "text": [
            "[[1491, 81, 399], [384, 144, 111], [140, 80, 59]]\n",
            "error: matrices cannot be multiplied\n"
          ]
        }
      ],
      "source": [
        "# функция, которая умножает две матрицы\n",
        "def multi_matrix(A, B):\n",
        "  # проверяем можно ли умножить данные матрицы\n",
        "  if len(A[0]) != len(B): return 'error: matrices cannot be multiplied'\n",
        "  # если проверку прошли, выполняем параллельный перебор элементов с помощью функции zip\n",
        "  # в строке матрицы А и столбце матрицы В и суммируем с помощью функции sum\n",
        "  return [[sum (a * b for a, b in zip(row_a, col_b)) for col_b in zip(*B)] for row_a in A]\n",
        "\n",
        "\n",
        "A = [[12, 12, 1], [3, 3, 4], [1, 11, 2]]\n",
        "B = [[123, 3, 31], [1, 1, 2], [3, 33, 3]]\n",
        "print(multi_matrix(A, B))\n",
        "AA = [[12, 12, 1], [3, 3, 4], [1, 11, 2]]\n",
        "BB = [[12, 12, 1], [3, 3, 4]]\n",
        "print(multi_matrix(AA, BB))"
      ]
    },
    {
      "cell_type": "code",
      "execution_count": null,
      "metadata": {
        "colab": {
          "base_uri": "https://localhost:8080/"
        },
        "id": "uWIIDmV5wl72",
        "outputId": "7bf3332b-8fa5-409c-8062-070087850de9"
      },
      "outputs": [
        {
          "name": "stdout",
          "output_type": "stream",
          "text": [
            "true\n"
          ]
        }
      ],
      "source": [
        "def test_multi_matrix():\n",
        "  assert multi_matrix([[12, 12, 1], [3, 3, 4], [1, 11, 2]], [[123, 3, 31], [1, 1, 2], [3, 33, 3]]) == [[1491, 81, 399], [384, 144, 111], [140, 80, 59]]\n",
        "  assert multi_matrix([[12, 12, 1], [3, 3, 4], [1, 11, 2]], [[12, 12, 1], [3, 3, 4]]) == 'error: matrices cannot be multiplied'\n",
        "\n",
        "  print('true')\n",
        "\n",
        "test_multi_matrix()"
      ]
    },
    {
      "cell_type": "markdown",
      "metadata": {
        "id": "GB6R7wRL2sEk"
      },
      "source": [
        "Задача 11. Надо реализовать игру \"Волки  и овцы\" - https://ru.wikipedia.org/wiki/%D0%92%D0%BE%D0%BB%D0%BA_%D0%B8_%D0%BE%D0%B2%D1%86%D1%8B. Поле задается в виде матрицы 8 х 8 (в виде соответствующего списка списков). Каждый ход кодируется заданием двух полей - того, на котором находится фишка и того, на которое она перемещается. Алгоритм должен сам определить, когда какая-то из сторон выиграла."
      ]
    },
    {
      "cell_type": "code",
      "execution_count": null,
      "metadata": {
        "id": "4R99zcnT2tuP"
      },
      "outputs": [],
      "source": [
        "game_field = [[1, 2, 3, 4, 5, 6, 7, 8], [1, 2, 3, 4, 5, 6, 7, 8]]\n",
        "\n",
        "def sheep(x, y):\n",
        "  return x+-1, y+-1\n",
        "\n",
        "def wolf(x, y):\n",
        "  return x+-1, y -1\n",
        "\n",
        "def qwe():\n",
        "  motion_sheep = list(sheep(x, y))\n",
        "  motion_wolf1 = list(wolf(x, y))\n",
        "  motion_wolf2 = list(wolf(x, y))\n",
        "  motion_wolf3 = list(wolf(x, y))\n",
        "  motion_wolf4 = list(wolf(x, y))\n",
        "\n",
        "\n",
        "\n"
      ]
    },
    {
      "cell_type": "markdown",
      "metadata": {
        "id": "djvPDrXG3Fqg"
      },
      "source": [
        "Задача 11. Имеется строка с названиями товаров вида «яблоки, груши, яблоки, киви, сливы, киви». Товары перечислены через запятую, товары могут повторяться, после запятой может стоять пробел. Выведите таблицу из двух колонок. В левой колонке - название товара, в правой - количество названий этого товара, встречающихся в строке. Таблицу надо упорядочить по уменьшению количества названий товара в строке."
      ]
    },
    {
      "cell_type": "code",
      "execution_count": null,
      "metadata": {
        "colab": {
          "base_uri": "https://localhost:8080/"
        },
        "id": "oIX6jtXZ3G40",
        "outputId": "857850fc-a69f-4a87-f518-00b1d873946f"
      },
      "outputs": [
        {
          "name": "stdout",
          "output_type": "stream",
          "text": [
            "Киви                          5\n",
            "Яблоки                        2\n",
            "Груши                         1\n",
            "Сливы                         1\n",
            "Помидоры                      1\n",
            "\n",
            "Пиво                          3\n",
            "Яблоки                        2\n",
            "Груши                         1\n"
          ]
        }
      ],
      "source": [
        "# импорт подвид словаря, который из исходного списка сразу подсчитывает сколько и каких элементов в списке\n",
        "from collections import Counter\n",
        "# импорт модуль регулярных выражений, чтобы разбить строку с помощью сплита с несколькими вариантами\n",
        "import re\n",
        "def string_table(input):\n",
        "  # разбиваем строку с помощью re.split(), где основание для разбиения могут быть 2 случая: запятая и запятая с пробелом\n",
        "  # с помощью map каждую строку (продукт) переводим в нижний регистр и нам возварщается разбитая строка с прописными словами\n",
        "  # этот же объект map заосовываем вторым аргументов в еще один map и в нем делаем в каждом слове первую букву заглавную\n",
        "  # из этого объекта map Делаем список, и из исписка делаем Counter словарь и присваиваем его переменной products\n",
        "  products = Counter(list(map(lambda x: x.title(), (map(lambda y: y.lower(), re.split(r', |,', input))))))\\\n",
        "  # сортируем словарь\n",
        "  for key in products.most_common():\n",
        "    # выводим в консоль отформатированинные строки в виде таблицы, где в первом столбце ключ в виде product\n",
        "    # во втором столбике количество этого product в исходной строке\n",
        "    print(f\"{key[0]:<15} {key[1]:>15}\", sep=\"\\n\")\n",
        "\n",
        "\n",
        "string_table('яблоки, груши, яблоки, киви, сливы, киви, киви, киви, киви, помидоры')\n",
        "print('')\n",
        "string_table('ЯБЛОки, груШИ,яблоки,пиво,ПИВО,Пиво')\n"
      ]
    },
    {
      "cell_type": "markdown",
      "metadata": {
        "id": "DFyipN3lQgAd"
      },
      "source": [
        "Задача 13. Создайте 2 списка из 5 случайных целых чисел от 1 до 10. Найдите симметрическую разность множеств, соответствующих спискам в выведете ее на печать."
      ]
    },
    {
      "cell_type": "code",
      "execution_count": null,
      "metadata": {
        "colab": {
          "base_uri": "https://localhost:8080/"
        },
        "id": "x1-akSl9R32L",
        "outputId": "332f881c-0a9e-4e41-c992-e4d773345415"
      },
      "outputs": [
        {
          "name": "stdout",
          "output_type": "stream",
          "text": [
            "{0, 3, 4, 7}\n"
          ]
        }
      ],
      "source": [
        "# ну тут все понятно, рандомим 2 списка, делаем из них множества и возвращаем разность с помощью оператора ^\n",
        "from random import sample\n",
        "def func():\n",
        "  return set(sample(range(10), 5))^set(sample(range(10), 5))\n",
        "\n",
        "print(func())"
      ]
    },
    {
      "cell_type": "markdown",
      "metadata": {
        "id": "Tvck9G9pJ_u_"
      },
      "source": [
        "Задача 14. Из множества целых чисел от 1 до 100 (включительно) выделите в отдельное множество и выведите его на печать - числа, кратные либо 2, либо 3, но при этом не одновременно 2 и 3."
      ]
    },
    {
      "cell_type": "code",
      "execution_count": null,
      "metadata": {
        "colab": {
          "base_uri": "https://localhost:8080/"
        },
        "id": "nT4cyk0QKA7P",
        "outputId": "27d48db2-5745-45ed-ff0f-396489281258"
      },
      "outputs": [
        {
          "name": "stdout",
          "output_type": "stream",
          "text": [
            "{2, 3, 4, 8, 9, 10, 14, 15, 16, 20, 21, 22, 26, 27, 28, 32, 33, 34, 38, 39, 40, 44, 45, 46, 50, 51, 52, 56, 57, 58, 62, 63, 64, 68, 69, 70, 74, 75, 76, 80, 81, 82, 86, 87, 88, 92, 93, 94, 98, 99, 100}\n"
          ]
        }
      ],
      "source": [
        "def func():\n",
        "  numbers = set()\n",
        "  [numbers.add(i) for i in range(1, 101) if i % 2 == 0 and i % 3 != 0 or i % 3 == 0 and i % 2 != 0]\n",
        "  print(numbers)\n",
        "\n",
        "func()"
      ]
    },
    {
      "cell_type": "markdown",
      "metadata": {
        "id": "c31vzT3qL41-"
      },
      "source": [
        "Задача 15. Введите целое число. Выведите его на экран и допишите к нему слова «рубль», «рубля» или «рублей» в зависимости от значения."
      ]
    },
    {
      "cell_type": "code",
      "execution_count": null,
      "metadata": {
        "colab": {
          "base_uri": "https://localhost:8080/"
        },
        "id": "BzB64I3dL6Ci",
        "outputId": "a4a9933c-5927-4292-daae-c57c67c6ed96"
      },
      "outputs": [
        {
          "name": "stdout",
          "output_type": "stream",
          "text": [
            "123 рубля\n"
          ]
        }
      ],
      "source": [
        "def func(input):\n",
        "  # проверка на правильность ввода данных, при вводе букв или отрицательного числа выдаем ошибку\n",
        "  if input.isdigit() == False or int(input) < 0 == True: return 'error: invalid input'\n",
        "  # для удобности в новую переменную записываем интовове преобразование ввода\n",
        "  int_input = int(input)\n",
        "  # условный оператор для правильного результата\n",
        "  if int_input % 10 == 1: return input + ' рубль'\n",
        "  elif (int_input % 10 == 2 or int_input % 10 == 3 or int_input % 10 == 4) and int_input > 20: return input + ' рубля'\n",
        "  else: return input + ' рублей'\n",
        "\n",
        "print(func(input()))"
      ]
    },
    {
      "cell_type": "code",
      "execution_count": null,
      "metadata": {
        "colab": {
          "base_uri": "https://localhost:8080/"
        },
        "id": "ajjydSgXYBFF",
        "outputId": "ac690130-64ff-44e7-9060-788116739a3d"
      },
      "outputs": [
        {
          "name": "stdout",
          "output_type": "stream",
          "text": [
            "true\n"
          ]
        }
      ],
      "source": [
        "def test_func():\n",
        "  assert func('1') == '1 рубль'\n",
        "  assert func('1234') == '1234 рубля'\n",
        "  assert func('0') == '0 рублей'\n",
        "  assert func('-1') == 'error: invalid input'\n",
        "  assert func('wsqad1') == 'error: invalid input'\n",
        "\n",
        "  print('true')\n",
        "\n",
        "test_func()"
      ]
    },
    {
      "cell_type": "markdown",
      "metadata": {
        "id": "Z_ynS3j7ZIz4"
      },
      "source": [
        "Задача 16. Напишите программу, которая находит наибольший общий делитель двух целых чисел, используя алгоритм Евклида"
      ]
    },
    {
      "cell_type": "code",
      "execution_count": null,
      "metadata": {
        "colab": {
          "base_uri": "https://localhost:8080/"
        },
        "id": "jyoKUCByZOQV",
        "outputId": "aa5acef9-5cc0-4827-840b-6772e37cbb1a"
      },
      "outputs": [
        {
          "name": "stdout",
          "output_type": "stream",
          "text": [
            "12\n",
            "3\n"
          ]
        }
      ],
      "source": [
        "import math\n",
        "# алгоритм евклида, реализованный с помощью рекурсии\n",
        "def nod(num1, num2):\n",
        "  # с помощью возврата итогового значения с помощью абсолютного значения\n",
        "  # мы решаем проблему для отрицательных целых чисел, когда вместо\n",
        "  # когда алгоритм неправильно выдает НОД\n",
        "  if num1 == 0: return int(math.fabs(num2))\n",
        "  return nod(num2 % num1, num1)\n",
        "\n",
        "print(nod(900, 12))\n",
        "print(nod(-123, 12))"
      ]
    },
    {
      "cell_type": "code",
      "execution_count": null,
      "metadata": {
        "colab": {
          "base_uri": "https://localhost:8080/"
        },
        "id": "dx3NFqItcjD_",
        "outputId": "2bf9e606-0bed-49b3-add1-08d50b610c03"
      },
      "outputs": [
        {
          "name": "stdout",
          "output_type": "stream",
          "text": [
            "true\n"
          ]
        }
      ],
      "source": [
        "def test_nod():\n",
        "  assert nod(24, 12) == 12\n",
        "  assert nod(100, 32) == 4\n",
        "  assert nod(-100, 52) == 4\n",
        "\n",
        "  print('true')\n",
        "\n",
        "test_nod()"
      ]
    },
    {
      "cell_type": "markdown",
      "metadata": {
        "id": "JfC-nc6hVa3j"
      },
      "source": [
        "Задача 17. Выведите значение заданного целого числа от 0 до 1000 прописью. Например, «сто девяносто один» для числа 191, «одиннадцать» для числа 11."
      ]
    },
    {
      "cell_type": "code",
      "execution_count": null,
      "metadata": {
        "colab": {
          "base_uri": "https://localhost:8080/"
        },
        "id": "EwciSiKrVdRo",
        "outputId": "d73a01c9-a129-4357-8a10-1c3da24bc904"
      },
      "outputs": [
        {
          "name": "stdout",
          "output_type": "stream",
          "text": [
            "сто двадцать три\n"
          ]
        }
      ],
      "source": [
        "# создаем словами для преобразования чисел в пропись\n",
        "units = {1:'один', 2:'два', 3:'три', 4:'четыре', 5:'пять', 6:'шесть', 7:'семь', 8:'восемь', 9:'девять', 0:''}\n",
        "tens = {2:'двадцать', 3:'тридцать', 4:'сорок', 5:'пятьдесят', 6:'шестьдесят', 7:'семьдесят', 8:'восемьдесят', 9:'девяносто'}\n",
        "hundreds = {1:'сто', 2:'двести', 3:'триста', 4:'четыреста', 5:'пятьсот', 6:'шестьсот', 7:'семьсот', 8:'восемьсот', 9:'девятьсот'}\n",
        "\n",
        "from_ten_to_nineteen = {10:'десять', 11:'одиннадцать', 12:'двенадцать', 13:'тринадцать', 14:'четырнадцать', 15:'пятнадцать', 16:'шестнадцать',\n",
        "                        17:'семнадцать', 18:'восемнадцать', 19:'девятнадцать'}\n",
        "\n",
        "def new_format(input):\n",
        "  # для удобства преобразуем интовый ввод в строку\n",
        "  input = str(input)\n",
        "  # временный список\n",
        "  p = []\n",
        "  # с помощью условного оператора в зависимоти от того, какое число введено\n",
        "  # выбираем из словарей \"единицы, десятки, сотни и 10-19\" нужные нам значения ключей и добавляем во временный список\n",
        "  if len(input) > 1:\n",
        "    if 9 < int(input[-2:]) < 20:\n",
        "      p.append(from_ten_to_nineteen[int(input[-2:])])\n",
        "    elif int(input[-2:]) > 19:\n",
        "      p.append(units[int(input[-1])])\n",
        "      p.append(tens[int(input[-2])])\n",
        "  else:\n",
        "    if int(input[-1]) > 0:\n",
        "      p.append(units[int(input[-1])])\n",
        "    else:\n",
        "      p.append('ноль')\n",
        "  if len(input) == 3:\n",
        "    p.append(hundreds[int(input[-3])])\n",
        "  # возвращаем строку из списка в обратном порядке\n",
        "  return ' '.join(p[::-1])\n",
        "  p.clear()\n",
        "\n",
        "print(new_format(123))"
      ]
    },
    {
      "cell_type": "code",
      "execution_count": null,
      "metadata": {
        "colab": {
          "base_uri": "https://localhost:8080/"
        },
        "id": "5CZoNxhXZsN7",
        "outputId": "357e8463-4a71-4007-a6b4-162d26430aeb"
      },
      "outputs": [
        {
          "name": "stdout",
          "output_type": "stream",
          "text": [
            "true\n"
          ]
        }
      ],
      "source": [
        "def test_new_format():\n",
        "  assert new_format(123) == 'сто двадцать три'\n",
        "  assert new_format(12) == 'двенадцать'\n",
        "  assert new_format(999) == 'девятьсот девяносто девять'\n",
        "  assert new_format(2) == 'два'\n",
        "\n",
        "  print('true')\n",
        "\n",
        "test_new_format()"
      ]
    },
    {
      "cell_type": "markdown",
      "metadata": {
        "id": "5lIk3rWg9E8i"
      },
      "source": [
        "Задача 18. Имеется список названий месяцев: [‘января’, ‘февраля’, ‘марта’, ‘апреля’, ’мая’, ‘июня’, ‘июля’, ‘августа’, ‘сентября’, ‘октября’, ‘ноября’, ‘декабря’]. Создайте по этому списку словарь, в котором название месяца будет ключом, а номер месяца (от 1 до 12) – значением. Используя полученный словарь преобразуйте строку с датой вида «1 января 2021» в строку «1.01.2021»"
      ]
    },
    {
      "cell_type": "code",
      "execution_count": null,
      "metadata": {
        "colab": {
          "base_uri": "https://localhost:8080/"
        },
        "id": "JBH_vYVe9HtG",
        "outputId": "65e09e33-b200-44ce-836f-f5da4aca9b52"
      },
      "outputs": [
        {
          "name": "stdout",
          "output_type": "stream",
          "text": [
            "1.1.2021\n",
            "30.3.2121\n",
            "14.2.2021\n",
            "12.9.2021\n"
          ]
        }
      ],
      "source": [
        "months = ['января', 'февраля', 'марта', 'апреля', 'мая', 'июня', 'июля', 'августа', 'сентября', 'октября', 'ноября', 'декабря']\n",
        "# функция для инициализации словаря с месяцами \n",
        "def months_dictionary(months):\n",
        "  numbers = list(range(1, 13))\n",
        "  return dict(zip(months, numbers))\n",
        "\n",
        "def new_format(input):\n",
        "  # разбиваем строковый ввод на список, разделенный пробелами\n",
        "  list_input = input.split()\n",
        "  # второе слово в списке - месяц, который мы меняем на число из словаря\n",
        "  list_input[1] = str(months_dictionary(months).get(input.split()[1]))\n",
        "  # возвращаем строку, с разделителями в виде точек\n",
        "  return '.'.join(list_input)\n",
        "\n",
        "\n",
        "print(new_format('1 января 2021'))\n",
        "print(new_format('30 марта 2121'))\n",
        "print(new_format('14 февраля 2021'))\n",
        "print(new_format('12 сентября 2021'))\n"
      ]
    },
    {
      "cell_type": "code",
      "execution_count": null,
      "metadata": {},
      "outputs": [
        {
          "name": "stdout",
          "output_type": "stream",
          "text": [
            "true\n"
          ]
        }
      ],
      "source": [
        "def test_new_format():\n",
        "    assert new_format('2 января 2022') == '2.1.2022'\n",
        "    assert new_format('28 февраля 2000') == '28.2.2000'\n",
        "\n",
        "    print('true')\n",
        "\n",
        "test_new_format()\n"
      ]
    },
    {
      "cell_type": "markdown",
      "metadata": {
        "id": "gfdsZcKhcpBK"
      },
      "source": [
        "Задача 19. Реализовать функции для выполнения четырех арифметических операций (сложение, вычитание, умножение, деление), преобразующих целые числа в целое число (т.е если результат операции оказался дробным, то надо преобразовать его в целое по математическому правилу округления). Для выполнения задания надо создать словарь с функциями и соответствующими им символами операций.\n",
        "\n",
        "В программе надо для двух конкретных чисел выполнить выбранную пользователем (по введенному пользователем имени) арифметическую операцию."
      ]
    },
    {
      "cell_type": "code",
      "execution_count": null,
      "metadata": {
        "colab": {
          "base_uri": "https://localhost:8080/"
        },
        "id": "fnj9cXdWcqax",
        "outputId": "e8e40c1a-8bd0-4299-bdc2-5e03a38b2aef"
      },
      "outputs": [
        {
          "name": "stdout",
          "output_type": "stream",
          "text": [
            "5\n",
            "0\n",
            "5605\n",
            "55\n"
          ]
        }
      ],
      "source": [
        "# функция для сложения\n",
        "def addition(number1, number2):\n",
        "  return int(number1 + number2)\n",
        "\n",
        "# функция для вычитания\n",
        "def subtraction(number1, number2):\n",
        "  return int(number1 - number2)\n",
        "\n",
        "# функция для умножения\n",
        "def multiplication(number1, number2):\n",
        "  return int(number1 * number2)\n",
        "\n",
        "# функция для деления\n",
        "def division(number1, number2):\n",
        "  return int(number1 / number2 + (0.5 if (number1 / number2) > 0 else -0.5))\n",
        "\n",
        "# словарь с арифметическими функциями\n",
        "functions = {\n",
        "    '+': addition,\n",
        "    '-': subtraction,\n",
        "    '*': multiplication,\n",
        "    '/': division\n",
        "}\n",
        "\n",
        "# главная функция, которая возвращает определенную арифметическую функцию, используя\n",
        "# сплит и доступ по индексу для того чтобы вытащить арифметический знак из строки\n",
        "def func(str_input):\n",
        "  return functions[str_input.split()[1]](int(str_input.split()[0]), int(str_input.split()[2]))\n",
        "\n",
        "print(func('1 + 4'))\n",
        "print(func('12 - 12'))\n",
        "print(func('123312 / 22'))\n",
        "print(func('11 * 5'))\n",
        "\n"
      ]
    },
    {
      "cell_type": "code",
      "execution_count": null,
      "metadata": {
        "colab": {
          "base_uri": "https://localhost:8080/"
        },
        "id": "A_HCCxsahi8u",
        "outputId": "a796b4f0-5216-419d-db70-76becb07a953"
      },
      "outputs": [
        {
          "name": "stdout",
          "output_type": "stream",
          "text": [
            "true\n"
          ]
        }
      ],
      "source": [
        "def test_func():\n",
        "  assert func('123 + 21') == 144\n",
        "  assert func('123312 / 22') == 5605\n",
        "  assert func('1111 - 1111') == 0\n",
        "  assert func('-12 + 12') == 0\n",
        "\n",
        "  print('true')\n",
        "\n",
        "test_func()"
      ]
    },
    {
      "cell_type": "markdown",
      "metadata": {
        "id": "uE9_sGBb0EoJ"
      },
      "source": [
        "Задача 20. Реализовать функцию умножения, принимающую неограниченное количество значений."
      ]
    },
    {
      "cell_type": "code",
      "execution_count": null,
      "metadata": {
        "colab": {
          "base_uri": "https://localhost:8080/"
        },
        "id": "j2Lm1Wn30GCq",
        "outputId": "099d5d0b-c383-4e3d-9245-fdef28488546"
      },
      "outputs": [
        {
          "name": "stdout",
          "output_type": "stream",
          "text": [
            "750\n",
            "3\n",
            "3850\n",
            "15000\n"
          ]
        }
      ],
      "source": [
        "def func(values):\n",
        "  result = 1\n",
        "  for value in values: result *= value\n",
        "  return result\n",
        "\n",
        "print(func((15, 10, 5)))\n",
        "print(func((3, 1)))\n",
        "print(func([2, 35, 55]))\n",
        "print(func((5, 10 ,15, 20)))"
      ]
    },
    {
      "cell_type": "code",
      "execution_count": null,
      "metadata": {},
      "outputs": [
        {
          "name": "stdout",
          "output_type": "stream",
          "text": [
            "true\n"
          ]
        }
      ],
      "source": [
        "def test_func():\n",
        "    assert func((1, 2, 3, 4, 5, 6, 7, 8, 9, 10)) == 3628800\n",
        "\n",
        "    print('true')\n",
        "\n",
        "test_func()"
      ]
    },
    {
      "cell_type": "markdown",
      "metadata": {
        "id": "i6RkKxeS0WRb"
      },
      "source": [
        "Задача 21. Дана дробь n / m , n и m - натуральные числа. Напишите 2 функции, которые сокращают эту дробь, то есть находят числа p и q такие, что    n / m = p / q , и дробь p / q — несократимая:\n",
        "\n",
        "Случай 1 - аргументами функции являются числа n, m, функция возвращает кортеж (p, q);\n",
        "\n",
        "Случай 2 - аргументом функции является список [n, m], функция не возвращает значения, а изменяет этот список на [p, q]."
      ]
    },
    {
      "cell_type": "code",
      "execution_count": null,
      "metadata": {
        "colab": {
          "base_uri": "https://localhost:8080/"
        },
        "id": "hs6tNmAU0XLP",
        "outputId": "4521a054-a344-4051-88b5-f21a2ff319c8"
      },
      "outputs": [
        {
          "name": "stdout",
          "output_type": "stream",
          "text": [
            "(2, 3)\n",
            "[2, 3]\n"
          ]
        }
      ],
      "source": [
        "# находим нод через функцию и алгоритм евклида и с помозью него сокращаем дроби\n",
        "import math\n",
        "# алгоритм евклида, реализованный с помощью рекурсии\n",
        "def nod(num1, num2):\n",
        "  # с помощью возврата итогового значения с помощью абсолютного значения\n",
        "  # мы решаем проблему для отрицательных целых чисел, когда вместо\n",
        "  # когда алгоритм неправильно выдает НОД\n",
        "  if num1 == 0: return int(math.fabs(num2))\n",
        "  return nod(num2 % num1, num1)\n",
        "\n",
        "# функция для первого случая\n",
        "def reduce_return_tuple(n, m):\n",
        "  # проверка: нас устраивают только натуральные числа\n",
        "  if n <= 0 or m <= 0: return 'error: invalid input'\n",
        "  # результат функции с общим делителем присваиваем в переменную\n",
        "  new_nod = nod(n, m)\n",
        "  # вовзращаем сокращенную дробь\n",
        "  return (int(n / new_nod), int(m / new_nod))\n",
        "\n",
        "# функция для второго случая\n",
        "def reduce_change_list(input_list):\n",
        "  # проверка: нас устраивают только натуральные числа\n",
        "  if input_list[0] <= 0 or input_list[1] <= 0: return 'error: invalid input'\n",
        "  # результат функции с общим делителем присваиваем в переменную\n",
        "  new_nod = nod(input_list[0], input_list[1])\n",
        "  # присваиваем во входной лист новые значения\n",
        "  input_list[0] = int(input_list[0] / new_nod)\n",
        "  input_list[1] = int(input_list[1] / new_nod)\n",
        "  # возвращаем старый список с новыми значениями (несократимые числитель и знаменатель)\n",
        "  return input_list\n",
        "\n",
        "print(reduce_return_tuple(150, 225))\n",
        "print(reduce_change_list([150, 225]))"
      ]
    },
    {
      "cell_type": "code",
      "execution_count": null,
      "metadata": {
        "colab": {
          "base_uri": "https://localhost:8080/"
        },
        "id": "nOBzzxvL09Vx",
        "outputId": "519989bc-6e1a-43c6-b096-c911bd979522"
      },
      "outputs": [
        {
          "name": "stdout",
          "output_type": "stream",
          "text": [
            "true\n"
          ]
        }
      ],
      "source": [
        "def test_reduce_return_tuple():\n",
        "  assert reduce_return_tuple(150, 225) == (2, 3)\n",
        "  assert reduce_return_tuple(36, 30) == (6, 5)\n",
        "  assert reduce_return_tuple(2, 3) == (2, 3)\n",
        "  assert reduce_return_tuple(10, 5) == (2, 1)\n",
        "  assert reduce_return_tuple(0, 5) == 'error: invalid input'\n",
        "\n",
        "  print('true')\n",
        "\n",
        "test_reduce_return_tuple()"
      ]
    },
    {
      "cell_type": "code",
      "execution_count": null,
      "metadata": {
        "colab": {
          "base_uri": "https://localhost:8080/"
        },
        "id": "DPogX58C1FkS",
        "outputId": "cfc10f56-43af-484d-ccae-6908d2280259"
      },
      "outputs": [
        {
          "name": "stdout",
          "output_type": "stream",
          "text": [
            "true\n"
          ]
        }
      ],
      "source": [
        "def test_reduce_change_list():\n",
        "  assert reduce_change_list([150, 225]) == [2, 3]\n",
        "  assert reduce_change_list([36, 30]) == [6, 5]\n",
        "  assert reduce_change_list([2, 3]) == [2, 3]\n",
        "  assert reduce_change_list([10, 5]) == [2, 1]\n",
        "  assert reduce_change_list([0, 5]) == 'error: invalid input'\n",
        "\n",
        "  print('true')\n",
        "\n",
        "test_reduce_change_list()"
      ]
    },
    {
      "cell_type": "markdown",
      "metadata": {
        "id": "yXuBHeWMRqj5"
      },
      "source": [
        "Задача 22. Написать функцию, которая преобразует целое число (от 0 до 1000) из текстового представления на русском языке в число типа int. И сообщает об ошибках (выводит на экран описание типа ошибки и возвращает чило -1)."
      ]
    },
    {
      "cell_type": "code",
      "execution_count": null,
      "metadata": {
        "colab": {
          "base_uri": "https://localhost:8080/"
        },
        "id": "HdkZ8eKHRtWf",
        "outputId": "953c57a6-504b-426e-c739-78944f13bf9c"
      },
      "outputs": [
        {
          "name": "stdout",
          "output_type": "stream",
          "text": [
            "10\n",
            "-1: invalid input\n",
            "109\n",
            "22\n",
            "-1: invalid input\n",
            "-1: invalid input\n",
            "225\n",
            "-1: invalid input\n",
            "-1: invalid input\n",
            "-1: invalid input\n"
          ]
        }
      ],
      "source": [
        "numbers = {'': 0, 'один': 1, 'два': 2, 'три': 3, 'четыре': 4, 'пять': 5, 'шесть': 6, 'семь': 7, 'восемь': 8, 'девять': 9,\n",
        "          'десять': 10, 'одиннадцать': 11, 'двенадцать': 12, 'тринадцать': 13, 'четырнадцать': 14, 'пятнадцать': 15, 'шестнадцать': 16,\n",
        "          'семнадцать': 17, 'восемнадцать': 18, 'девятнадцать': 19, 'двадцать': 20, 'тридцать': 30, 'сорок': 40, 'пятьдесят': 50,\n",
        "          'шестьдесят': 60, 'семьдесят': 70, 'восемьдесят': 80, 'девяносто': 90, 'сто': 100, 'двести': 200, 'триста': 300, 'четыреста': 400,\n",
        "          'пятьсот': 500, 'шестьсот': 600, 'семьсот': 700, 'восемьсот': 800, 'девятьсот': 900}\n",
        "\n",
        "\n",
        "\n",
        "def to_int(input):\n",
        "  # проверка на правильность ввода количества слов в строке\n",
        "  if len(input.split()) > 3: return '-1: invalid input'\n",
        "  # если слово одно, значит легко возвращаем число из словаря\n",
        "  elif len(input.split()) == 1: return numbers[input]\n",
        "  elif len(input.split()) == 2:\n",
        "    # проверяем чтобы первое число в строке не было было меньше 20, ибо тогда будет неверный ввод\n",
        "    if numbers[input.split()[0]] < 20: return '-1: invalid input'\n",
        "    elif numbers[input.split()[1]] > 9 and numbers[input.split()[1]] < 20 and numbers[input.split()[0]] < 100: return '-1: invalid input'\n",
        "    # возвращаем строку из двух цифр\n",
        "    else: return numbers[input.split()[0]] + numbers[input.split()[1]]\n",
        "  elif len(input.split()) == 3:\n",
        "    # делаем логические проверки на правильность ввода строки\n",
        "    if numbers[input.split()[0]] > 99:\n",
        "      if numbers[input.split()[1]] > 19:\n",
        "        if numbers[input.split()[2]] < 10:\n",
        "          return numbers[input.split()[0]] + numbers[input.split()[1]] + numbers[input.split()[2]]\n",
        "        else: return '-1: invalid input'\n",
        "      else: return '-1: invalid input'\n",
        "    else: return '-1: invalid input'\n",
        "\n",
        "print(to_int('десять'))\n",
        "print(to_int('десять два один сто'))\n",
        "print(to_int('сто девять'))\n",
        "print(to_int('двадцать два'))\n",
        "print(to_int('один три'))\n",
        "print(to_int('сто тринадцать два'))\n",
        "print(to_int('двести двадцать пять'))\n",
        "print(to_int('один двадцать пять'))\n",
        "print(to_int('сто двадцать тринадцать'))\n",
        "print(to_int('двести один два'))"
      ]
    },
    {
      "cell_type": "code",
      "execution_count": null,
      "metadata": {
        "id": "ku5yTZWCTRcr"
      },
      "outputs": [
        {
          "name": "stdout",
          "output_type": "stream",
          "text": [
            "true\n"
          ]
        }
      ],
      "source": [
        "def test_to_int():\n",
        "    assert to_int('пятнадцать') == 15\n",
        "    assert to_int('двести четыре') == 204\n",
        "    assert to_int('триста тринадцать') == 313\n",
        "    assert to_int('пятьсот двадцать пять') == 525\n",
        "\n",
        "    print('true')\n",
        "\n",
        "test_to_int()"
      ]
    },
    {
      "cell_type": "markdown",
      "metadata": {},
      "source": [
        "Задача 23. Элементами матрицы являются случайные положительные целые числа из заданного диапазона. Число строк и столбцов матрицы задается с клавиатуры. Написать функцию подсчета среднего арифметического элементов над главной диагональю и\n",
        "количество четных элементов под ней. Если матрица не является квадратной, должно генерироваться исключение"
      ]
    },
    {
      "cell_type": "code",
      "execution_count": 14,
      "metadata": {},
      "outputs": [
        {
          "name": "stdout",
          "output_type": "stream",
          "text": [
            "1 5 1 2\n",
            "2 5 4 2\n",
            "5 4 4 2\n",
            "2 1 2 1\n",
            "Среднее арифметическое чисел над главной диагональю: 3.1666666666666665, количество четных чисел под главной диагональю: 4\n"
          ]
        }
      ],
      "source": [
        "import random\n",
        "import sys\n",
        "# запрашиваем данные, с которыми будем работать\n",
        "a, b = map(int, input(\"Введите диапазон из двух чисел через пробел\").split())\n",
        "n = int(input(\"Введите количество строк в будущей матрице\"))\n",
        "m = int(input(\"Введите количество столбцов в будущей матрице\"))\n",
        "\n",
        "# генерируем исключение, если матрица не квадратная\n",
        "if n != m:\n",
        "    sys.exit(\"invalid input: матрица должна быть квадратной\")\n",
        "\n",
        "# генерация матрицы и вывод матрицы для общей наглядности\n",
        "matrix = []\n",
        "for i in range(n):\n",
        "    matrix += [[random.randint(a, b) for _ in range(m)]]\n",
        "for line in matrix:\n",
        "    print(*line)\n",
        "\n",
        "def tmp_func(matrix, n, m):\n",
        "    sum, even_numbers, count = 0, 0, 0\n",
        "    for i in range(n):\n",
        "        for j in range(m):\n",
        "            if (j + i) < n - 1:\n",
        "                sum += matrix[i][j]\n",
        "                count += 1\n",
        "            elif (j + i) > n - 1:\n",
        "                if (matrix[i][j] % 2) == 0:\n",
        "                    even_numbers += 1\n",
        "    return (sum/count, even_numbers)\n",
        "\n",
        "result = tmp_func(matrix, n, m)\n",
        "\n",
        "\n",
        "print(f'Среднее арифметическое чисел над главной диагональю: {result[0]}, количество четных чисел под главной диагональю: {result[1]}')\n"
      ]
    },
    {
      "cell_type": "markdown",
      "metadata": {},
      "source": [
        "\n",
        "Задача 25. Задан список словарей: dl = {'a': 10, 'b': 20, 'c': 1}, {'a': 5, 'b': 10, 'z': 10}, {'a': 3, 'y': 7}. С помощью анонимной функции отсортировать словари по значению, содержащемуся по ключу 'a'."
      ]
    },
    {
      "cell_type": "code",
      "execution_count": 3,
      "metadata": {},
      "outputs": [
        {
          "name": "stdout",
          "output_type": "stream",
          "text": [
            "[{'a': 3, 'y': 7}, {'a': 5, 'b': 10, 'z': 10}, {'a': 10, 'b': 20, 'c': 1}]\n"
          ]
        }
      ],
      "source": [
        "dl = {'a': 10, 'b': 20, 'c': 1}, {'a': 5, 'b': 10, 'z': 10}, {'a': 3, 'y': 7}\n",
        "result = sorted(dl, key=lambda d: d['a'])\n",
        "print(result)"
      ]
    }
  ],
  "metadata": {
    "colab": {
      "provenance": []
    },
    "kernelspec": {
      "display_name": "Python 3",
      "name": "python3"
    },
    "language_info": {
      "codemirror_mode": {
        "name": "ipython",
        "version": 3
      },
      "file_extension": ".py",
      "mimetype": "text/x-python",
      "name": "python",
      "nbconvert_exporter": "python",
      "pygments_lexer": "ipython3",
      "version": "3.12.0"
    }
  },
  "nbformat": 4,
  "nbformat_minor": 0
}
